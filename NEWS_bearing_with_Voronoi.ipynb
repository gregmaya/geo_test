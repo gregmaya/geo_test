{
  "nbformat": 4,
  "nbformat_minor": 0,
  "metadata": {
    "colab": {
      "name": "NEWS bearing with Voronoi",
      "provenance": [],
      "mount_file_id": "17xP0mS4B0DThNHS-aGV9ov11kvp4QnPB",
      "authorship_tag": "ABX9TyOmJCLifd/n70LqMcXvqDbY",
      "include_colab_link": true
    },
    "kernelspec": {
      "name": "python3",
      "display_name": "Python 3"
    },
    "language_info": {
      "name": "python"
    }
  },
  "cells": [
    {
      "cell_type": "markdown",
      "metadata": {
        "id": "view-in-github",
        "colab_type": "text"
      },
      "source": [
        "<a href=\"https://colab.research.google.com/github/gregmaya/geo_test/blob/main/NEWS_bearing_with_Voronoi.ipynb\" target=\"_parent\"><img src=\"https://colab.research.google.com/assets/colab-badge.svg\" alt=\"Open In Colab\"/></a>"
      ]
    },
    {
      "cell_type": "markdown",
      "source": [
        "# Import packages"
      ],
      "metadata": {
        "id": "uLs3lVHd83si"
      }
    },
    {
      "cell_type": "code",
      "source": [
        "!pip install pandas fiona shapely pyproj pygeos"
      ],
      "metadata": {
        "id": "QGkU3ygkkp6A"
      },
      "execution_count": null,
      "outputs": []
    },
    {
      "cell_type": "code",
      "source": [
        "%pip install geopandas "
      ],
      "metadata": {
        "id": "K9RzwBrYCdzQ"
      },
      "execution_count": null,
      "outputs": []
    },
    {
      "cell_type": "code",
      "source": [
        "import geopandas as gpd\n",
        "import pandas as pd\n",
        "import matplotlib.pyplot as plt\n",
        "from shapely.geometry import Point, LineString, Polygon, MultiPoint, MultiLineString, MultiPolygon\n",
        "from shapely.ops import voronoi_diagram"
      ],
      "metadata": {
        "id": "YyTJ-YMzBoHn",
        "colab": {
          "base_uri": "https://localhost:8080/"
        },
        "outputId": "d8812e0a-120f-41bc-c4e2-72396178d1da"
      },
      "execution_count": null,
      "outputs": [
        {
          "output_type": "stream",
          "name": "stderr",
          "text": [
            "/usr/local/lib/python3.7/dist-packages/geopandas/_compat.py:115: UserWarning: The Shapely GEOS version (3.10.2-CAPI-1.16.0) is incompatible with the GEOS version PyGEOS was compiled with (3.10.1-CAPI-1.16.0). Conversions between both will be slow.\n",
            "  shapely_geos_version, geos_capi_version_string\n"
          ]
        }
      ]
    },
    {
      "cell_type": "markdown",
      "source": [
        "#Function"
      ],
      "metadata": {
        "id": "oxWZ4QAIJwQv"
      }
    },
    {
      "cell_type": "code",
      "source": [
        "def news_bearings_country(country_name, geometry):\n",
        "  \"\"\"\n",
        "  This function creates a 5 part split for countries polygons using a combined\\ \n",
        "  approach between bounding boxes and voroni diagram.\n",
        "\n",
        "  The idea is to establish which areas could be considered N/S/E/W and Center\\\n",
        "  from a geography from which one is not too familiar.\n",
        "\n",
        "  PARAMETERS\n",
        "  -----\n",
        "  country_name : string.\n",
        "  geometry : type shapely Polygon. \n",
        "\n",
        "  RETURN\n",
        "  -----\n",
        "  Returns a GeoDataFrame indexed with the respective bearing for each area.\n",
        "  \"\"\" \n",
        "  #creating a bounding box\n",
        "  bounds = geometry.bounds\n",
        "  ls_pts = [Point(bounds[0], bounds[3]),\n",
        "            Point(bounds[2], bounds[3]),\n",
        "            Point(bounds[2], bounds[1]),\n",
        "            Point(bounds[0], bounds[1])]\n",
        "  bbox = Polygon(ls_pts)\n",
        "\n",
        "  #creating an ortogonal cross within it\n",
        "  midx = bounds[0]+((bounds[2]-bounds[0])/2)\n",
        "  midy = bounds[1]+((bounds[3]- bounds[1])/2)\n",
        "  vline = LineString([Point(midx, bounds[3]), Point(midx, bounds[1])])\n",
        "  hline = LineString([Point(bounds[0], midy), Point(bounds[2], midy)])\n",
        "  cross = MultiLineString([vline,hline])\n",
        "\n",
        "  #intersecting such cross with the country's geometry to get points\n",
        "  vpoints = geometry.exterior.intersection(cross)\n",
        "  vpoints_ls = [pt for pt in vpoints.geoms]\n",
        "\n",
        "  #Selecting only the outter most points: N,E,W,S\n",
        "  t_minx, t_miny, t_maxx, t_maxy = MultiPoint(points=list(vpoints_ls)).bounds\n",
        "  bearing = []\n",
        "  outer_pts = []\n",
        "  for p in vpoints_ls:\n",
        "    #points on verticval line\n",
        "    if p.x == midx:\n",
        "      if p.y == t_maxy :\n",
        "        bearing.append('N')\n",
        "        outer_pts.append(p)\n",
        "      elif p.y == t_miny:\n",
        "        bearing.append('S')\n",
        "        outer_pts.append(p)\n",
        "    #points on horizontal line\n",
        "    elif p.y == midy:\n",
        "      if p.x == t_maxx :\n",
        "        bearing.append('E')\n",
        "        outer_pts.append(p)\n",
        "      elif p.x == t_minx:\n",
        "        bearing.append('W')\n",
        "        outer_pts.append(p)\n",
        "        \n",
        "  #Add the geometry's centroid to the origin points\n",
        "  outer_pts.append(geometry.centroid)\n",
        "  bearing.append('C') #this could be avoided\n",
        "\n",
        "  origin_pts = gpd.GeoDataFrame({'bearing': bearing}, \n",
        "                                geometry = outer_pts)\n",
        "\n",
        "  origins = MultiPoint(points=list(outer_pts))\n",
        "  #create Voronoi diagram\n",
        "  voro = voronoi_diagram(origins, envelope=bbox, edges=False)\n",
        "  voro = MultiPolygon([poly for poly in voro.geoms])\n",
        "\n",
        "  #Intersect with the country's geometry to get N,E,W,S & Central areas\n",
        "  new_areas = []\n",
        "  for p in voro.geoms:\n",
        "    na = p.intersection(geometry)\n",
        "    new_areas.append(na)\n",
        "  \n",
        "  # Determing which bearing the polygon belongs to\n",
        "  news_gdf = gpd.GeoDataFrame(geometry = new_areas)\n",
        "  #adding a spatial index to be able to do spatial joins\n",
        "  news_gdf.sindex\n",
        "  origin_pts.sindex\n",
        "\n",
        "  voro_gdf = gpd.sjoin_nearest(news_gdf,origin_pts).drop(columns = 'index_right')\n",
        "  voro_gdf['country'] = country_name\n",
        "  voro_gdf.set_index('bearing', inplace=True)\n",
        "  return voro_gdf"
      ],
      "metadata": {
        "id": "Fpl8hdT3kFhE"
      },
      "execution_count": 2,
      "outputs": []
    },
    {
      "cell_type": "markdown",
      "source": [
        "# Load data"
      ],
      "metadata": {
        "id": "etvZQBNO8-Sa"
      }
    },
    {
      "cell_type": "code",
      "source": [
        "#load the files\n",
        "filepath = '/content/drive/MyDrive/Playing with data/World_Countries_(Generalized)/World_Countries__Generalized_.shp'\n",
        "world = gpd.read_file(filepath)\n",
        "raw_filepath = '/content/drive/MyDrive/Playing with data/country-and-continent-codes-list-csv.csv'\n",
        "raw = pd.read_csv(raw_filepath)\n",
        "\n",
        "#join them\n",
        "joined = pd.merge(world, raw, left_on= 'AFF_ISO', right_on='Two_Letter_Country_Code',\n",
        "         how=\"left\", sort=False)\n",
        "joined.head()"
      ],
      "metadata": {
        "id": "z6WZxQitDC6r",
        "colab": {
          "base_uri": "https://localhost:8080/",
          "height": 582
        },
        "outputId": "667a4a01-51df-4178-8238-9794f420f077"
      },
      "execution_count": null,
      "outputs": [
        {
          "output_type": "execute_result",
          "data": {
            "text/plain": [
              "   FID                               COUNTRY ISO     COUNTRYAFF AFF_ISO  \\\n",
              "0    1                        American Samoa  AS  United States      US   \n",
              "1    2  United States Minor Outlying Islands  UM  United States      US   \n",
              "2    3                          Cook Islands  CK    New Zealand      NZ   \n",
              "3    4                      French Polynesia  PF         France      FR   \n",
              "4    5                                  Niue  NU    New Zealand      NZ   \n",
              "\n",
              "   SHAPE_Leng  SHAPE_Area                                           geometry  \\\n",
              "0    0.600124    0.013720  POLYGON ((-170.74390 -14.37555, -170.74942 -14...   \n",
              "1    0.480216    0.003216  MULTIPOLYGON (((-160.02114 -0.39805, -160.0281...   \n",
              "2    0.980664    0.013073  MULTIPOLYGON (((-159.74698 -21.25667, -159.793...   \n",
              "3    3.930211    0.175332  MULTIPOLYGON (((-149.17920 -17.87084, -149.258...   \n",
              "4    0.541413    0.021414  POLYGON ((-169.89389 -19.14556, -169.93088 -19...   \n",
              "\n",
              "  Continent_Name Continent_Code              Country_Name  \\\n",
              "0  North America            NaN  United States of America   \n",
              "1  North America            NaN  United States of America   \n",
              "2        Oceania             OC               New Zealand   \n",
              "3         Europe             EU   France, French Republic   \n",
              "4        Oceania             OC               New Zealand   \n",
              "\n",
              "  Two_Letter_Country_Code Three_Letter_Country_Code  Country_Number  \n",
              "0                      US                       USA           840.0  \n",
              "1                      US                       USA           840.0  \n",
              "2                      NZ                       NZL           554.0  \n",
              "3                      FR                       FRA           250.0  \n",
              "4                      NZ                       NZL           554.0  "
            ],
            "text/html": [
              "\n",
              "  <div id=\"df-e3a14257-5e5a-4323-97fe-33f602fc00b5\">\n",
              "    <div class=\"colab-df-container\">\n",
              "      <div>\n",
              "<style scoped>\n",
              "    .dataframe tbody tr th:only-of-type {\n",
              "        vertical-align: middle;\n",
              "    }\n",
              "\n",
              "    .dataframe tbody tr th {\n",
              "        vertical-align: top;\n",
              "    }\n",
              "\n",
              "    .dataframe thead th {\n",
              "        text-align: right;\n",
              "    }\n",
              "</style>\n",
              "<table border=\"1\" class=\"dataframe\">\n",
              "  <thead>\n",
              "    <tr style=\"text-align: right;\">\n",
              "      <th></th>\n",
              "      <th>FID</th>\n",
              "      <th>COUNTRY</th>\n",
              "      <th>ISO</th>\n",
              "      <th>COUNTRYAFF</th>\n",
              "      <th>AFF_ISO</th>\n",
              "      <th>SHAPE_Leng</th>\n",
              "      <th>SHAPE_Area</th>\n",
              "      <th>geometry</th>\n",
              "      <th>Continent_Name</th>\n",
              "      <th>Continent_Code</th>\n",
              "      <th>Country_Name</th>\n",
              "      <th>Two_Letter_Country_Code</th>\n",
              "      <th>Three_Letter_Country_Code</th>\n",
              "      <th>Country_Number</th>\n",
              "    </tr>\n",
              "  </thead>\n",
              "  <tbody>\n",
              "    <tr>\n",
              "      <th>0</th>\n",
              "      <td>1</td>\n",
              "      <td>American Samoa</td>\n",
              "      <td>AS</td>\n",
              "      <td>United States</td>\n",
              "      <td>US</td>\n",
              "      <td>0.600124</td>\n",
              "      <td>0.013720</td>\n",
              "      <td>POLYGON ((-170.74390 -14.37555, -170.74942 -14...</td>\n",
              "      <td>North America</td>\n",
              "      <td>NaN</td>\n",
              "      <td>United States of America</td>\n",
              "      <td>US</td>\n",
              "      <td>USA</td>\n",
              "      <td>840.0</td>\n",
              "    </tr>\n",
              "    <tr>\n",
              "      <th>1</th>\n",
              "      <td>2</td>\n",
              "      <td>United States Minor Outlying Islands</td>\n",
              "      <td>UM</td>\n",
              "      <td>United States</td>\n",
              "      <td>US</td>\n",
              "      <td>0.480216</td>\n",
              "      <td>0.003216</td>\n",
              "      <td>MULTIPOLYGON (((-160.02114 -0.39805, -160.0281...</td>\n",
              "      <td>North America</td>\n",
              "      <td>NaN</td>\n",
              "      <td>United States of America</td>\n",
              "      <td>US</td>\n",
              "      <td>USA</td>\n",
              "      <td>840.0</td>\n",
              "    </tr>\n",
              "    <tr>\n",
              "      <th>2</th>\n",
              "      <td>3</td>\n",
              "      <td>Cook Islands</td>\n",
              "      <td>CK</td>\n",
              "      <td>New Zealand</td>\n",
              "      <td>NZ</td>\n",
              "      <td>0.980664</td>\n",
              "      <td>0.013073</td>\n",
              "      <td>MULTIPOLYGON (((-159.74698 -21.25667, -159.793...</td>\n",
              "      <td>Oceania</td>\n",
              "      <td>OC</td>\n",
              "      <td>New Zealand</td>\n",
              "      <td>NZ</td>\n",
              "      <td>NZL</td>\n",
              "      <td>554.0</td>\n",
              "    </tr>\n",
              "    <tr>\n",
              "      <th>3</th>\n",
              "      <td>4</td>\n",
              "      <td>French Polynesia</td>\n",
              "      <td>PF</td>\n",
              "      <td>France</td>\n",
              "      <td>FR</td>\n",
              "      <td>3.930211</td>\n",
              "      <td>0.175332</td>\n",
              "      <td>MULTIPOLYGON (((-149.17920 -17.87084, -149.258...</td>\n",
              "      <td>Europe</td>\n",
              "      <td>EU</td>\n",
              "      <td>France, French Republic</td>\n",
              "      <td>FR</td>\n",
              "      <td>FRA</td>\n",
              "      <td>250.0</td>\n",
              "    </tr>\n",
              "    <tr>\n",
              "      <th>4</th>\n",
              "      <td>5</td>\n",
              "      <td>Niue</td>\n",
              "      <td>NU</td>\n",
              "      <td>New Zealand</td>\n",
              "      <td>NZ</td>\n",
              "      <td>0.541413</td>\n",
              "      <td>0.021414</td>\n",
              "      <td>POLYGON ((-169.89389 -19.14556, -169.93088 -19...</td>\n",
              "      <td>Oceania</td>\n",
              "      <td>OC</td>\n",
              "      <td>New Zealand</td>\n",
              "      <td>NZ</td>\n",
              "      <td>NZL</td>\n",
              "      <td>554.0</td>\n",
              "    </tr>\n",
              "  </tbody>\n",
              "</table>\n",
              "</div>\n",
              "      <button class=\"colab-df-convert\" onclick=\"convertToInteractive('df-e3a14257-5e5a-4323-97fe-33f602fc00b5')\"\n",
              "              title=\"Convert this dataframe to an interactive table.\"\n",
              "              style=\"display:none;\">\n",
              "        \n",
              "  <svg xmlns=\"http://www.w3.org/2000/svg\" height=\"24px\"viewBox=\"0 0 24 24\"\n",
              "       width=\"24px\">\n",
              "    <path d=\"M0 0h24v24H0V0z\" fill=\"none\"/>\n",
              "    <path d=\"M18.56 5.44l.94 2.06.94-2.06 2.06-.94-2.06-.94-.94-2.06-.94 2.06-2.06.94zm-11 1L8.5 8.5l.94-2.06 2.06-.94-2.06-.94L8.5 2.5l-.94 2.06-2.06.94zm10 10l.94 2.06.94-2.06 2.06-.94-2.06-.94-.94-2.06-.94 2.06-2.06.94z\"/><path d=\"M17.41 7.96l-1.37-1.37c-.4-.4-.92-.59-1.43-.59-.52 0-1.04.2-1.43.59L10.3 9.45l-7.72 7.72c-.78.78-.78 2.05 0 2.83L4 21.41c.39.39.9.59 1.41.59.51 0 1.02-.2 1.41-.59l7.78-7.78 2.81-2.81c.8-.78.8-2.07 0-2.86zM5.41 20L4 18.59l7.72-7.72 1.47 1.35L5.41 20z\"/>\n",
              "  </svg>\n",
              "      </button>\n",
              "      \n",
              "  <style>\n",
              "    .colab-df-container {\n",
              "      display:flex;\n",
              "      flex-wrap:wrap;\n",
              "      gap: 12px;\n",
              "    }\n",
              "\n",
              "    .colab-df-convert {\n",
              "      background-color: #E8F0FE;\n",
              "      border: none;\n",
              "      border-radius: 50%;\n",
              "      cursor: pointer;\n",
              "      display: none;\n",
              "      fill: #1967D2;\n",
              "      height: 32px;\n",
              "      padding: 0 0 0 0;\n",
              "      width: 32px;\n",
              "    }\n",
              "\n",
              "    .colab-df-convert:hover {\n",
              "      background-color: #E2EBFA;\n",
              "      box-shadow: 0px 1px 2px rgba(60, 64, 67, 0.3), 0px 1px 3px 1px rgba(60, 64, 67, 0.15);\n",
              "      fill: #174EA6;\n",
              "    }\n",
              "\n",
              "    [theme=dark] .colab-df-convert {\n",
              "      background-color: #3B4455;\n",
              "      fill: #D2E3FC;\n",
              "    }\n",
              "\n",
              "    [theme=dark] .colab-df-convert:hover {\n",
              "      background-color: #434B5C;\n",
              "      box-shadow: 0px 1px 3px 1px rgba(0, 0, 0, 0.15);\n",
              "      filter: drop-shadow(0px 1px 2px rgba(0, 0, 0, 0.3));\n",
              "      fill: #FFFFFF;\n",
              "    }\n",
              "  </style>\n",
              "\n",
              "      <script>\n",
              "        const buttonEl =\n",
              "          document.querySelector('#df-e3a14257-5e5a-4323-97fe-33f602fc00b5 button.colab-df-convert');\n",
              "        buttonEl.style.display =\n",
              "          google.colab.kernel.accessAllowed ? 'block' : 'none';\n",
              "\n",
              "        async function convertToInteractive(key) {\n",
              "          const element = document.querySelector('#df-e3a14257-5e5a-4323-97fe-33f602fc00b5');\n",
              "          const dataTable =\n",
              "            await google.colab.kernel.invokeFunction('convertToInteractive',\n",
              "                                                     [key], {});\n",
              "          if (!dataTable) return;\n",
              "\n",
              "          const docLinkHtml = 'Like what you see? Visit the ' +\n",
              "            '<a target=\"_blank\" href=https://colab.research.google.com/notebooks/data_table.ipynb>data table notebook</a>'\n",
              "            + ' to learn more about interactive tables.';\n",
              "          element.innerHTML = '';\n",
              "          dataTable['output_type'] = 'display_data';\n",
              "          await google.colab.output.renderOutput(dataTable, element);\n",
              "          const docLink = document.createElement('div');\n",
              "          docLink.innerHTML = docLinkHtml;\n",
              "          element.appendChild(docLink);\n",
              "        }\n",
              "      </script>\n",
              "    </div>\n",
              "  </div>\n",
              "  "
            ]
          },
          "metadata": {},
          "execution_count": 4
        }
      ]
    },
    {
      "cell_type": "code",
      "source": [
        "keep_cols = ['Continent_Name','Country_Name', 'geometry']\n",
        "selection = input('Enter continent name: ')\n",
        "df = joined[joined.Continent_Name == selection][keep_cols].reset_index(drop=True)"
      ],
      "metadata": {
        "colab": {
          "base_uri": "https://localhost:8080/"
        },
        "id": "YVsetJqYIdLA",
        "outputId": "36b7eaef-55bb-49f5-88c7-009473924ca7"
      },
      "execution_count": null,
      "outputs": [
        {
          "name": "stdout",
          "output_type": "stream",
          "text": [
            "Enter continent name South America\n"
          ]
        }
      ]
    },
    {
      "cell_type": "code",
      "source": [
        "results = []\n",
        "#iterate through every country\n",
        "for i, mp  in df.iterrows() :\n",
        "  #iterate through every polygon of such country\n",
        "  c = df['Country_Name'][i]\n",
        "  if mp['geometry'].geom_type == 'Polygon':\n",
        "    r = news_bearings_country(c, mp['geometry'])\n",
        "    results.append(r)\n",
        "  elif mp['geometry'].geom_type == 'MultiPolygon':\n",
        "    for g in mp['geometry'].geoms :\n",
        "      r = news_bearings_country(c, g)\n",
        "      results.append(r)\n",
        "result = pd.concat(results)\n",
        "result.tail()"
      ],
      "metadata": {
        "id": "D0AI6_KPU2pD"
      },
      "execution_count": null,
      "outputs": []
    },
    {
      "cell_type": "markdown",
      "source": [
        "#Visualising"
      ],
      "metadata": {
        "id": "0I4job5eaQza"
      }
    },
    {
      "cell_type": "code",
      "source": [
        "# Plot data\n",
        "fig, ax = plt.subplots(figsize=(10, 10))\n",
        "\n",
        "result.reset_index().plot(ax =ax , column = 'bearing',  cmap = 'Accent')\n",
        "\n",
        "ax.set(title='Compass Bearings of '+ 'South America' )\n",
        "\n",
        "ax.set_axis_off()\n",
        "plt.show()"
      ],
      "metadata": {
        "colab": {
          "base_uri": "https://localhost:8080/",
          "height": 559
        },
        "id": "fR9kU1oRt7SW",
        "outputId": "a40a05dc-8f1f-4446-ec90-e01e75c68d3b"
      },
      "execution_count": null,
      "outputs": [
        {
          "output_type": "display_data",
          "data": {
            "text/plain": [
              "<Figure size 720x720 with 1 Axes>"
            ],
            "image/png": "[encoded data removed]"
          },
          "metadata": {
            "needs_background": "light"
          }
        }
      ]
    }
  ]
}